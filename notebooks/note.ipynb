{
 "cells": [
  {
   "cell_type": "code",
   "execution_count": 3,
   "metadata": {},
   "outputs": [],
   "source": [
    "import torch\n",
    "import torch.nn.functional as F"
   ]
  },
  {
   "cell_type": "code",
   "execution_count": 9,
   "metadata": {},
   "outputs": [],
   "source": [
    "predictions = torch.tensor([[0.304, 0.333, 0.363],\n",
    "                            [0.442, 0.279, 0.279]])\n",
    "labels = torch.tensor([2, 0])"
   ]
  },
  {
   "cell_type": "code",
   "execution_count": 18,
   "metadata": {},
   "outputs": [
    {
     "name": "stdout",
     "output_type": "stream",
     "text": [
      "tensor([[0.3236, 0.3331, 0.3433],\n",
      "        [0.3705, 0.3148, 0.3148]])\n"
     ]
    }
   ],
   "source": [
    "pred_e = torch.pow(torch.e, predictions)\n",
    "pred_softmax = pred_e / (pred_e.sum(dim=1, keepdim=True) + torch.finfo(pred_e.dtype).eps)\n",
    "print(pred_softmax)"
   ]
  },
  {
   "cell_type": "code",
   "execution_count": 20,
   "metadata": {},
   "outputs": [
    {
     "data": {
      "text/plain": [
       "tensor([[0.3236, 0.3331, 0.3433],\n",
       "        [0.3705, 0.3148, 0.3148]])"
      ]
     },
     "execution_count": 20,
     "metadata": {},
     "output_type": "execute_result"
    }
   ],
   "source": [
    "pred_softmax_2 = predictions.softmax(dim=1)\n",
    "pred_softmax_2"
   ]
  },
  {
   "cell_type": "code",
   "execution_count": 8,
   "metadata": {},
   "outputs": [
    {
     "name": "stdout",
     "output_type": "stream",
     "text": [
      "tensor([[0.3040, 0.3330, 0.3630],\n",
      "        [0.4420, 0.2790, 0.2790]])\n"
     ]
    }
   ],
   "source": [
    "predictions_softmax = F.softmax(predictions,dim=1)\n",
    "print(predictions)"
   ]
  },
  {
   "cell_type": "code",
   "execution_count": null,
   "metadata": {},
   "outputs": [],
   "source": []
  }
 ],
 "metadata": {
  "kernelspec": {
   "display_name": "venv",
   "language": "python",
   "name": "python3"
  },
  "language_info": {
   "codemirror_mode": {
    "name": "ipython",
    "version": 3
   },
   "file_extension": ".py",
   "mimetype": "text/x-python",
   "name": "python",
   "nbconvert_exporter": "python",
   "pygments_lexer": "ipython3",
   "version": "3.9.7"
  }
 },
 "nbformat": 4,
 "nbformat_minor": 2
}
