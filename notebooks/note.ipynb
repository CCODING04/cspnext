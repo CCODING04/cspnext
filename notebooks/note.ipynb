{
 "cells": [
  {
   "cell_type": "code",
   "execution_count": 1,
   "metadata": {},
   "outputs": [
    {
     "name": "stdout",
     "output_type": "stream",
     "text": [
      "The shape of pixel_data is (20, 40)\n",
      "The shape of pixel_data is torch.Size([1, 20, 40])\n"
     ]
    },
    {
     "name": "stderr",
     "output_type": "stream",
     "text": [
      "e:\\workspace\\paper_witch_code\\cspnext\\cspnext\\structures\\data\\pixel_data.py:83: UserWarning: The shape of value will convert from torch.Size([20, 40]) to torch.Size([1, 20, 40])\n",
      "  warnings.warn('The shape of value will convert from '\n"
     ]
    }
   ],
   "source": [
    "from cspnext.structures import PixelData\n",
    "import random\n",
    "import torch\n",
    "import numpy as np\n",
    "metainfo = dict(\n",
    "    img_id=random.randint(0, 100),\n",
    "    img_shape=(random.randint(400, 600), random.randint(400, 600)))\n",
    "image = np.random.randint(0, 255, (4, 20, 40))\n",
    "featmap = torch.randint(0, 255, (10, 20, 40))\n",
    "pixel_data = PixelData(metainfo=metainfo,\n",
    "                       image=image,\n",
    "                       featmap=featmap)\n",
    "print('The shape of pixel_data is', pixel_data.shape)\n",
    "# set\n",
    "pixel_data.map3 = torch.randint(0, 255, (20, 40))\n",
    "print('The shape of pixel_data is', pixel_data.map3.shape)"
   ]
  },
  {
   "cell_type": "code",
   "execution_count": 6,
   "metadata": {},
   "outputs": [
    {
     "data": {
      "text/plain": [
       "torch.Size([1, 1, 1])"
      ]
     },
     "execution_count": 6,
     "metadata": {},
     "output_type": "execute_result"
    }
   ],
   "source": [
    "pixel_data[10, 20].map3.shape"
   ]
  },
  {
   "cell_type": "code",
   "execution_count": 7,
   "metadata": {},
   "outputs": [],
   "source": [
    "from cspnext.structures import LabelData"
   ]
  },
  {
   "cell_type": "code",
   "execution_count": 8,
   "metadata": {},
   "outputs": [],
   "source": [
    "item = torch.tensor([1], dtype=torch.int64)\n",
    "num_classes = 10"
   ]
  },
  {
   "cell_type": "code",
   "execution_count": 10,
   "metadata": {},
   "outputs": [],
   "source": [
    "onehot = LabelData.label_to_onehot(label=item, num_classes=num_classes)"
   ]
  },
  {
   "cell_type": "code",
   "execution_count": 13,
   "metadata": {},
   "outputs": [],
   "source": [
    "label_data = LabelData(metainfo=dict(img_id=1, num_classes=10))"
   ]
  },
  {
   "cell_type": "code",
   "execution_count": 14,
   "metadata": {},
   "outputs": [],
   "source": [
    "label_data.label = item"
   ]
  },
  {
   "cell_type": "code",
   "execution_count": null,
   "metadata": {},
   "outputs": [],
   "source": []
  },
  {
   "cell_type": "code",
   "execution_count": null,
   "metadata": {},
   "outputs": [],
   "source": []
  }
 ],
 "metadata": {
  "kernelspec": {
   "display_name": "venv",
   "language": "python",
   "name": "python3"
  },
  "language_info": {
   "codemirror_mode": {
    "name": "ipython",
    "version": 3
   },
   "file_extension": ".py",
   "mimetype": "text/x-python",
   "name": "python",
   "nbconvert_exporter": "python",
   "pygments_lexer": "ipython3",
   "version": "3.9.7"
  }
 },
 "nbformat": 4,
 "nbformat_minor": 2
}
