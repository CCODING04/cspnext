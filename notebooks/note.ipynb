{
 "cells": [
  {
   "cell_type": "code",
   "execution_count": 1,
   "metadata": {},
   "outputs": [],
   "source": [
    "from cspnext.task_modules.prior_generators import MlvlPointGenerator"
   ]
  },
  {
   "cell_type": "code",
   "execution_count": 12,
   "metadata": {},
   "outputs": [],
   "source": [
    "mlvl_points = MlvlPointGenerator(strides=[4, 10], offset=0.5)"
   ]
  },
  {
   "cell_type": "code",
   "execution_count": 13,
   "metadata": {},
   "outputs": [],
   "source": [
    "priors = mlvl_points.grid_priors(featmap_sizes=[(2, 2), (4, 4)], device='cpu')"
   ]
  },
  {
   "cell_type": "code",
   "execution_count": 14,
   "metadata": {},
   "outputs": [
    {
     "data": {
      "text/plain": [
       "[tensor([[2., 2.],\n",
       "         [6., 2.],\n",
       "         [2., 6.],\n",
       "         [6., 6.]]),\n",
       " tensor([[ 5.,  5.],\n",
       "         [15.,  5.],\n",
       "         [25.,  5.],\n",
       "         [35.,  5.],\n",
       "         [ 5., 15.],\n",
       "         [15., 15.],\n",
       "         [25., 15.],\n",
       "         [35., 15.],\n",
       "         [ 5., 25.],\n",
       "         [15., 25.],\n",
       "         [25., 25.],\n",
       "         [35., 25.],\n",
       "         [ 5., 35.],\n",
       "         [15., 35.],\n",
       "         [25., 35.],\n",
       "         [35., 35.]])]"
      ]
     },
     "execution_count": 14,
     "metadata": {},
     "output_type": "execute_result"
    }
   ],
   "source": [
    "priors"
   ]
  },
  {
   "cell_type": "code",
   "execution_count": null,
   "metadata": {},
   "outputs": [],
   "source": []
  }
 ],
 "metadata": {
  "kernelspec": {
   "display_name": "venv",
   "language": "python",
   "name": "python3"
  },
  "language_info": {
   "codemirror_mode": {
    "name": "ipython",
    "version": 3
   },
   "file_extension": ".py",
   "mimetype": "text/x-python",
   "name": "python",
   "nbconvert_exporter": "python",
   "pygments_lexer": "ipython3",
   "version": "3.9.7"
  }
 },
 "nbformat": 4,
 "nbformat_minor": 2
}
